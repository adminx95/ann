{
 "cells": [
  {
   "cell_type": "markdown",
   "id": "081bd79f-da52-4712-93ea-c95f717d63fe",
   "metadata": {},
   "source": [
    "#Write a python program to design a Hopfield Network which stores 4 vectors"
   ]
  },
  {
   "cell_type": "code",
   "execution_count": 2,
   "id": "fe1e166f-78be-4345-be60-31d6961623ef",
   "metadata": {},
   "outputs": [],
   "source": [
    "import numpy as np"
   ]
  },
  {
   "cell_type": "code",
   "execution_count": 11,
   "id": "081aaf69-21de-4d64-8332-2b4da795c316",
   "metadata": {},
   "outputs": [],
   "source": [
    "class hopfield:\n",
    "    def __init__(self,n):\n",
    "        self.weights=np.zeros((n,n))\n",
    "    def train(self,patterns):\n",
    "        for pattern in patterns:\n",
    "            self.weights+=np.outer(pattern,pattern)\n",
    "            np.fill_diagonal(self.weights,0)\n",
    "    def predict(self,pattern):\n",
    "        energy=-0.5*((pattern@self.weights)@pattern)\n",
    "        return np.sign((pattern @ self.weights)+energy)"
   ]
  },
  {
   "cell_type": "code",
   "execution_count": 12,
   "id": "a0d1ad2c-dfe8-4df7-8288-0b01c00873a4",
   "metadata": {},
   "outputs": [],
   "source": [
    "patterns=np.array([\n",
    "    [1,1,-1,-1],\n",
    "    [-1,-1,1,1],\n",
    "    [1,-1,1,-1],\n",
    "    [-1,1,-1,1]\n",
    "])\n",
    "n=4"
   ]
  },
  {
   "cell_type": "code",
   "execution_count": 13,
   "id": "cf335d0c-0030-4b13-9cbf-407bbd9b3f71",
   "metadata": {},
   "outputs": [],
   "source": [
    "net=hopfield(n)"
   ]
  },
  {
   "cell_type": "code",
   "execution_count": 14,
   "id": "9c57a82a-19be-4999-8c81-8bf8f587d652",
   "metadata": {},
   "outputs": [],
   "source": [
    "net.train(patterns)"
   ]
  },
  {
   "cell_type": "code",
   "execution_count": 16,
   "id": "620617ce-c505-4632-88dc-a5128b58e517",
   "metadata": {},
   "outputs": [
    {
     "name": "stdout",
     "output_type": "stream",
     "text": [
      "prediction pattern [-1. -1. -1. -1.]\n"
     ]
    }
   ],
   "source": [
    "for pattern in patterns:\n",
    "    pred=net.predict(pattern)\n",
    "print('prediction pattern',pred)"
   ]
  },
  {
   "cell_type": "code",
   "execution_count": null,
   "id": "a5f861b5-16e3-4d22-a5a4-75e8fd8bb70d",
   "metadata": {},
   "outputs": [],
   "source": []
  }
 ],
 "metadata": {
  "kernelspec": {
   "display_name": "Python 3 (ipykernel)",
   "language": "python",
   "name": "python3"
  },
  "language_info": {
   "codemirror_mode": {
    "name": "ipython",
    "version": 3
   },
   "file_extension": ".py",
   "mimetype": "text/x-python",
   "name": "python",
   "nbconvert_exporter": "python",
   "pygments_lexer": "ipython3",
   "version": "3.12.1"
  }
 },
 "nbformat": 4,
 "nbformat_minor": 5
}
