{
 "cells": [
  {
   "cell_type": "markdown",
   "id": "006c33e6-49b8-4506-a4f1-f5ba8f6a7497",
   "metadata": {},
   "source": [
    "#Write a python program for bidirectional associative memory with two pairs of vectors"
   ]
  },
  {
   "cell_type": "code",
   "execution_count": 1,
   "id": "e4bf8650-1500-4015-b997-08ac52cf4337",
   "metadata": {},
   "outputs": [],
   "source": [
    "import numpy as np"
   ]
  },
  {
   "cell_type": "code",
   "execution_count": 2,
   "id": "59f8673a-a50b-4b6c-be1e-9d8ae5989ad4",
   "metadata": {},
   "outputs": [],
   "source": [
    "x1=np.array([1,1,1,-1])\n",
    "y1=np.array([1,-1])\n",
    "x2=np.array([-1,-1,1,1])\n",
    "y2=np.array([-1,1])"
   ]
  },
  {
   "cell_type": "code",
   "execution_count": 3,
   "id": "441ad902-df36-4ff4-b040-d0ca09e1e13b",
   "metadata": {},
   "outputs": [],
   "source": [
    "w=np.outer(y1,x1)+np.outer(y2,x2)"
   ]
  },
  {
   "cell_type": "code",
   "execution_count": 4,
   "id": "7ed42ac4-ad4e-4380-a211-db1de46762e4",
   "metadata": {},
   "outputs": [],
   "source": [
    "def bam(x):\n",
    "    y=w@x\n",
    "    return np.where(y>0,1,-1)"
   ]
  },
  {
   "cell_type": "code",
   "execution_count": 5,
   "id": "39f2ef47-164e-4e93-b5e0-c66637980f28",
   "metadata": {},
   "outputs": [],
   "source": [
    "xtest=np.array([1,-1,-1,-1])\n",
    "ytest=bam(xtest)"
   ]
  },
  {
   "cell_type": "code",
   "execution_count": 6,
   "id": "2e20aa7b-25fa-40fb-be58-2a50f27a196c",
   "metadata": {},
   "outputs": [
    {
     "data": {
      "text/plain": [
       "array([ 1, -1, -1, -1])"
      ]
     },
     "execution_count": 6,
     "metadata": {},
     "output_type": "execute_result"
    }
   ],
   "source": [
    "xtest"
   ]
  },
  {
   "cell_type": "code",
   "execution_count": 7,
   "id": "e3f21b8f-0673-4534-bd9d-97a00d769ef7",
   "metadata": {},
   "outputs": [
    {
     "data": {
      "text/plain": [
       "array([ 1, -1])"
      ]
     },
     "execution_count": 7,
     "metadata": {},
     "output_type": "execute_result"
    }
   ],
   "source": [
    "ytest"
   ]
  },
  {
   "cell_type": "code",
   "execution_count": null,
   "id": "76d85b0f-74c4-437b-9a3f-c243ee0d0cde",
   "metadata": {},
   "outputs": [],
   "source": []
  }
 ],
 "metadata": {
  "kernelspec": {
   "display_name": "Python 3 (ipykernel)",
   "language": "python",
   "name": "python3"
  },
  "language_info": {
   "codemirror_mode": {
    "name": "ipython",
    "version": 3
   },
   "file_extension": ".py",
   "mimetype": "text/x-python",
   "name": "python",
   "nbconvert_exporter": "python",
   "pygments_lexer": "ipython3",
   "version": "3.12.1"
  }
 },
 "nbformat": 4,
 "nbformat_minor": 5
}
