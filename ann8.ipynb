{
 "cells": [
  {
   "cell_type": "code",
   "execution_count": 21,
   "id": "6f17660a-a878-4dc5-a299-3b156d8a1dae",
   "metadata": {},
   "outputs": [],
   "source": [
    "import numpy as np\n",
    "import matplotlib.pyplot as plt\n",
    "from sklearn.datasets import load_iris"
   ]
  },
  {
   "cell_type": "code",
   "execution_count": 22,
   "id": "4e31b81e-18d0-4ad8-9b4c-dc58d1c30136",
   "metadata": {},
   "outputs": [],
   "source": [
    "df=load_iris()"
   ]
  },
  {
   "cell_type": "code",
   "execution_count": 23,
   "id": "93db5e1a-626a-4c2d-a00a-e105b7f20a35",
   "metadata": {},
   "outputs": [],
   "source": [
    "X=df.data[:,[0,2]]\n",
    "y=df.target"
   ]
  },
  {
   "cell_type": "code",
   "execution_count": 24,
   "id": "7da37f61-a8f4-4693-b4e4-45ff73620d76",
   "metadata": {},
   "outputs": [],
   "source": [
    "w=np.zeros(2)\n",
    "b=0\n",
    "lr=0.1\n",
    "epochs=50"
   ]
  },
  {
   "cell_type": "code",
   "execution_count": 25,
   "id": "c488f333-5e26-4475-a7ce-f388ca17c1bd",
   "metadata": {},
   "outputs": [],
   "source": [
    "y = np.where(y == 0, 0, 1)"
   ]
  },
  {
   "cell_type": "code",
   "execution_count": 26,
   "id": "575cb51f-4e6e-4760-8cd5-934c86fe2f1b",
   "metadata": {},
   "outputs": [],
   "source": [
    "def perceptron(x,w,b):\n",
    "    z=(x@w)+b\n",
    "    return np.where(z>=0,1,1)"
   ]
  },
  {
   "cell_type": "code",
   "execution_count": 27,
   "id": "eaf4c15d-2493-4c55-916b-bbdb58d49ad5",
   "metadata": {},
   "outputs": [],
   "source": [
    "for epoch in range(epochs):\n",
    "    for i in range(len(X)):\n",
    "        x=X[i]\n",
    "        target=y[i]\n",
    "        output=perceptron(x,w,b)\n",
    "        error=target-output\n",
    "        w+=lr*error*x\n",
    "        b+=lr*error"
   ]
  },
  {
   "cell_type": "code",
   "execution_count": 28,
   "id": "529a2295-2f5e-4001-85dd-b2e0bcf2e022",
   "metadata": {},
   "outputs": [],
   "source": [
    "xmin,xmax=X[:,0].min()-0.5,X[:,0].max()+0.5\n",
    "ymin,ymax=X[:,1].min()-0.5,X[:,1].max()+0.5"
   ]
  },
  {
   "cell_type": "code",
   "execution_count": 29,
   "id": "b1e2c218-3d89-47ac-9bd3-7d0e9a08b604",
   "metadata": {},
   "outputs": [],
   "source": [
    "xx,yy=np.meshgrid(np.arange(xmin,xmax,0.02),np.arange(ymin,ymax,0.02))"
   ]
  },
  {
   "cell_type": "code",
   "execution_count": 30,
   "id": "8506da39-1379-4f9f-b59d-09a3566c9204",
   "metadata": {},
   "outputs": [],
   "source": [
    "z=perceptron(np.c_[xx.ravel(),yy.ravel()],w,b)\n",
    "Z=z.reshape(xx.shape)"
   ]
  },
  {
   "cell_type": "code",
   "execution_count": 32,
   "id": "cd39d9c4-e4c9-4a2e-bbd5-641fb06b4fc9",
   "metadata": {},
   "outputs": [
    {
     "data": {
      "text/plain": [
       "Text(0.5, 1.0, 'Perceptron decision regions')"
      ]
     },
     "execution_count": 32,
     "metadata": {},
     "output_type": "execute_result"
    },
    {
     "data": {
      "image/png": "[encoded data removed]",
      "text/plain": [
       "<Figure size 640x480 with 1 Axes>"
      ]
     },
     "metadata": {},
     "output_type": "display_data"
    }
   ],
   "source": [
    "plt.contourf(xx,yy,Z,cmap=plt.cm.Paired)\n",
    "plt.xlabel('Sepal length')\n",
    "plt.ylabel('Petal length') \n",
    "plt.title('Perceptron decision regions') "
   ]
  }
 ],
 "metadata": {
  "kernelspec": {
   "display_name": "Python 3 (ipykernel)",
   "language": "python",
   "name": "python3"
  },
  "language_info": {
   "codemirror_mode": {
    "name": "ipython",
    "version": 3
   },
   "file_extension": ".py",
   "mimetype": "text/x-python",
   "name": "python",
   "nbconvert_exporter": "python",
   "pygments_lexer": "ipython3",
   "version": "3.12.1"
  }
 },
 "nbformat": 4,
 "nbformat_minor": 5
}
