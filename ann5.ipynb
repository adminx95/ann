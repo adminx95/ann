{
 "cells": [
  {
   "cell_type": "markdown",
   "id": "941583ac-de2d-41d6-9314-f5a4bf4ca55d",
   "metadata": {},
   "source": [
    "Generate ANDNOT function using McCulloch-Pitts neural net."
   ]
  },
  {
   "cell_type": "code",
   "execution_count": 1,
   "id": "a4889e2c-2c0d-4612-b1a3-53c5b369d7cb",
   "metadata": {},
   "outputs": [],
   "source": [
    "import numpy as np"
   ]
  },
  {
   "cell_type": "code",
   "execution_count": 2,
   "id": "325bdadf-9c5b-4543-ac4c-697b6cd7d8fe",
   "metadata": {},
   "outputs": [],
   "source": [
    "def lin(dot,t):\n",
    "    if(dot>=1):\n",
    "        return 1\n",
    "    else :\n",
    "        return 0"
   ]
  },
  {
   "cell_type": "code",
   "execution_count": 3,
   "id": "e02a8e28-aee8-44ac-9b92-800b93c0f55a",
   "metadata": {},
   "outputs": [],
   "source": [
    "input=np.array([\n",
    "    [0,0],\n",
    "    [1,0],\n",
    "    [0,1],\n",
    "    [1,1]\n",
    "])"
   ]
  },
  {
   "cell_type": "code",
   "execution_count": 4,
   "id": "8ac4b757-cb6b-42de-acd3-24dc4efe5706",
   "metadata": {},
   "outputs": [],
   "source": [
    "w=np.array([1,-1])\n",
    "t=0"
   ]
  },
  {
   "cell_type": "code",
   "execution_count": 5,
   "id": "434dfa66-ee0a-47ab-bcfb-69e4d75a50f5",
   "metadata": {},
   "outputs": [],
   "source": [
    "dot=input@w"
   ]
  },
  {
   "cell_type": "code",
   "execution_count": 6,
   "id": "64276398-dd60-4798-9d66-d2cde199be4c",
   "metadata": {},
   "outputs": [
    {
     "name": "stdout",
     "output_type": "stream",
     "text": [
      "0\n",
      "1\n",
      "0\n",
      "0\n"
     ]
    }
   ],
   "source": [
    "for i in range(0,4):\n",
    "    act=lin(dot[i],t)\n",
    "    print(act)"
   ]
  },
  {
   "cell_type": "code",
   "execution_count": null,
   "id": "fe09a381-11b2-4013-bafb-f697da088c18",
   "metadata": {},
   "outputs": [],
   "source": []
  }
 ],
 "metadata": {
  "kernelspec": {
   "display_name": "Python 3 (ipykernel)",
   "language": "python",
   "name": "python3"
  },
  "language_info": {
   "codemirror_mode": {
    "name": "ipython",
    "version": 3
   },
   "file_extension": ".py",
   "mimetype": "text/x-python",
   "name": "python",
   "nbconvert_exporter": "python",
   "pygments_lexer": "ipython3",
   "version": "3.12.1"
  }
 },
 "nbformat": 4,
 "nbformat_minor": 5
}
