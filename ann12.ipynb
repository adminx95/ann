{
 "cells": [
  {
   "cell_type": "markdown",
   "id": "0f97dd2b-4f4e-4c43-ad85-93b278fb326b",
   "metadata": {},
   "source": [
    "Write a python program to illustrate ART neural network."
   ]
  },
  {
   "cell_type": "code",
   "execution_count": 1,
   "id": "e8766ae7-30db-474b-b602-ca33b19ca110",
   "metadata": {},
   "outputs": [],
   "source": [
    "import numpy as np"
   ]
  },
  {
   "cell_type": "code",
   "execution_count": 2,
   "id": "7182a1c4-cd82-4cab-8894-9ee2f14a7f1d",
   "metadata": {},
   "outputs": [],
   "source": [
    "class ARTNetwork:\n",
    "    def __init__(self, input_size, vigilance):\n",
    "        self.input_size = input_size\n",
    "        self.vigilance = vigilance\n",
    "        self.weights = np.zeros((input_size,1))\n",
    "\n",
    "    def train(self, input_data,epochs):\n",
    "        normalized_input = input_data / np.linalg.norm(input_data)\n",
    "        for _ in range(epochs):\n",
    "            similarity = normalized_input @ self.weights\n",
    "            if similarity.any() >= self.vigilance:\n",
    "                return\n",
    "            self.weights = np.maximum(self.weights, normalized_input)\n",
    "            normalized_input = self.weights / np.linalg.norm(self.weights)\n",
    "\n",
    "    def predict(self, input_data):\n",
    "        normalized_input = input_data / np.linalg.norm(input_data)\n",
    "        similarity = normalized_input @ self.weights\n",
    "        if similarity.any() >= self.vigilance:\n",
    "            output_pattern = np.zeros(len(similarity))\n",
    "            print(similarity)\n",
    "            winner = np.argmax(similarity)\n",
    "            output_pattern[winner] = 1\n",
    "        else:\n",
    "            output_pattern = np.zeros(len(similarity) + 1)\n",
    "            output_pattern[-1] = 1\n",
    "        return output_pattern"
   ]
  },
  {
   "cell_type": "code",
   "execution_count": 3,
   "id": "0f76caa2-c3cc-4fb3-a247-d973169b1697",
   "metadata": {},
   "outputs": [],
   "source": [
    "input_size = 4\n",
    "vigilance = 0.9\n",
    "art = ARTNetwork(input_size, vigilance)"
   ]
  },
  {
   "cell_type": "code",
   "execution_count": 4,
   "id": "89ca42d6-4516-4b7e-ad35-bae09ff57c70",
   "metadata": {},
   "outputs": [],
   "source": [
    "data = np.array([[1, 1, 0, 0],\n",
    "                 [0, 1, 0, 1],\n",
    "                 [0, 0, 1, 1],\n",
    "                 [1, 0, 1, 0]])\n"
   ]
  },
  {
   "cell_type": "code",
   "execution_count": 5,
   "id": "13ec3c67-766e-4676-b1b2-951ddc0d3f4a",
   "metadata": {},
   "outputs": [],
   "source": [
    "for sample in data:\n",
    "    art.train(sample,1000)"
   ]
  },
  {
   "cell_type": "code",
   "execution_count": 6,
   "id": "712baee8-d709-40d9-95c8-d3daade17d97",
   "metadata": {},
   "outputs": [
    {
     "name": "stdout",
     "output_type": "stream",
     "text": [
      "[-0.70710678 -0.70710678  0.          0.        ]\n",
      "[0. 0. 1. 0.]\n"
     ]
    }
   ],
   "source": [
    "new_input = np.array([0, -1, 0, 0])\n",
    "new_output = art.predict(new_input)\n",
    "print(new_output)"
   ]
  },
  {
   "cell_type": "code",
   "execution_count": null,
   "id": "3fb0dea3-81ee-47eb-81be-0b9de7871643",
   "metadata": {},
   "outputs": [],
   "source": []
  }
 ],
 "metadata": {
  "kernelspec": {
   "display_name": "Python 3 (ipykernel)",
   "language": "python",
   "name": "python3"
  },
  "language_info": {
   "codemirror_mode": {
    "name": "ipython",
    "version": 3
   },
   "file_extension": ".py",
   "mimetype": "text/x-python",
   "name": "python",
   "nbconvert_exporter": "python",
   "pygments_lexer": "ipython3",
   "version": "3.12.1"
  }
 },
 "nbformat": 4,
 "nbformat_minor": 5
}
